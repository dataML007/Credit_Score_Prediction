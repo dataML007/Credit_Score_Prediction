{
 "cells": [
  {
   "cell_type": "markdown",
   "metadata": {},
   "source": [
    "# Final model with just the selected parameters"
   ]
  },
  {
   "cell_type": "code",
   "execution_count": 1,
   "metadata": {},
   "outputs": [],
   "source": [
    "import pandas as pd\n",
    "import numpy as np\n",
    "import matplotlib.pyplot as plt\n",
    "\n",
    "df = pd.read_csv('subset_data.csv/part-00000-03fb537b-9382-4a5b-bac8-26d245ab88ab-c000.csv')"
   ]
  },
  {
   "cell_type": "code",
   "execution_count": 2,
   "metadata": {},
   "outputs": [
    {
     "data": {
      "text/html": [
       "<div>\n",
       "<style scoped>\n",
       "    .dataframe tbody tr th:only-of-type {\n",
       "        vertical-align: middle;\n",
       "    }\n",
       "\n",
       "    .dataframe tbody tr th {\n",
       "        vertical-align: top;\n",
       "    }\n",
       "\n",
       "    .dataframe thead th {\n",
       "        text-align: right;\n",
       "    }\n",
       "</style>\n",
       "<table border=\"1\" class=\"dataframe\">\n",
       "  <thead>\n",
       "    <tr style=\"text-align: right;\">\n",
       "      <th></th>\n",
       "      <th>x005</th>\n",
       "      <th>x276</th>\n",
       "      <th>x056</th>\n",
       "      <th>x193</th>\n",
       "      <th>x171</th>\n",
       "      <th>x075</th>\n",
       "      <th>x275</th>\n",
       "      <th>x281</th>\n",
       "      <th>x236</th>\n",
       "      <th>x057</th>\n",
       "      <th>...</th>\n",
       "      <th>x059</th>\n",
       "      <th>x055</th>\n",
       "      <th>x076</th>\n",
       "      <th>x274</th>\n",
       "      <th>x239</th>\n",
       "      <th>x245</th>\n",
       "      <th>x287</th>\n",
       "      <th>x014</th>\n",
       "      <th>x003</th>\n",
       "      <th>y</th>\n",
       "    </tr>\n",
       "  </thead>\n",
       "  <tbody>\n",
       "    <tr>\n",
       "      <th>0</th>\n",
       "      <td>8.0</td>\n",
       "      <td>0</td>\n",
       "      <td>0</td>\n",
       "      <td>0</td>\n",
       "      <td>0</td>\n",
       "      <td>0</td>\n",
       "      <td>NaN</td>\n",
       "      <td>0</td>\n",
       "      <td>0</td>\n",
       "      <td>NaN</td>\n",
       "      <td>...</td>\n",
       "      <td>0</td>\n",
       "      <td>0</td>\n",
       "      <td>0</td>\n",
       "      <td>0</td>\n",
       "      <td>NaN</td>\n",
       "      <td>1</td>\n",
       "      <td>NaN</td>\n",
       "      <td>0</td>\n",
       "      <td>NaN</td>\n",
       "      <td>706</td>\n",
       "    </tr>\n",
       "    <tr>\n",
       "      <th>1</th>\n",
       "      <td>4.0</td>\n",
       "      <td>0</td>\n",
       "      <td>0</td>\n",
       "      <td>0</td>\n",
       "      <td>0</td>\n",
       "      <td>22375</td>\n",
       "      <td>NaN</td>\n",
       "      <td>5206</td>\n",
       "      <td>0</td>\n",
       "      <td>NaN</td>\n",
       "      <td>...</td>\n",
       "      <td>8</td>\n",
       "      <td>0</td>\n",
       "      <td>0</td>\n",
       "      <td>0</td>\n",
       "      <td>NaN</td>\n",
       "      <td>0</td>\n",
       "      <td>1.0</td>\n",
       "      <td>0</td>\n",
       "      <td>3.0</td>\n",
       "      <td>558</td>\n",
       "    </tr>\n",
       "    <tr>\n",
       "      <th>2</th>\n",
       "      <td>96.0</td>\n",
       "      <td>0</td>\n",
       "      <td>2</td>\n",
       "      <td>0</td>\n",
       "      <td>0</td>\n",
       "      <td>3287</td>\n",
       "      <td>0.4814</td>\n",
       "      <td>0</td>\n",
       "      <td>0</td>\n",
       "      <td>NaN</td>\n",
       "      <td>...</td>\n",
       "      <td>3</td>\n",
       "      <td>0</td>\n",
       "      <td>1</td>\n",
       "      <td>1613</td>\n",
       "      <td>NaN</td>\n",
       "      <td>1</td>\n",
       "      <td>NaN</td>\n",
       "      <td>0</td>\n",
       "      <td>NaN</td>\n",
       "      <td>577</td>\n",
       "    </tr>\n",
       "    <tr>\n",
       "      <th>3</th>\n",
       "      <td>258.0</td>\n",
       "      <td>1</td>\n",
       "      <td>2</td>\n",
       "      <td>8</td>\n",
       "      <td>0</td>\n",
       "      <td>684</td>\n",
       "      <td>1.1153</td>\n",
       "      <td>0</td>\n",
       "      <td>-156</td>\n",
       "      <td>1.52</td>\n",
       "      <td>...</td>\n",
       "      <td>5</td>\n",
       "      <td>0</td>\n",
       "      <td>1</td>\n",
       "      <td>4796</td>\n",
       "      <td>14.0</td>\n",
       "      <td>1</td>\n",
       "      <td>2.0</td>\n",
       "      <td>1</td>\n",
       "      <td>14.0</td>\n",
       "      <td>526</td>\n",
       "    </tr>\n",
       "    <tr>\n",
       "      <th>4</th>\n",
       "      <td>34.0</td>\n",
       "      <td>1</td>\n",
       "      <td>0</td>\n",
       "      <td>1</td>\n",
       "      <td>1</td>\n",
       "      <td>2810</td>\n",
       "      <td>0.1430</td>\n",
       "      <td>0</td>\n",
       "      <td>710</td>\n",
       "      <td>0.62</td>\n",
       "      <td>...</td>\n",
       "      <td>7</td>\n",
       "      <td>0</td>\n",
       "      <td>0</td>\n",
       "      <td>186</td>\n",
       "      <td>29.5</td>\n",
       "      <td>1</td>\n",
       "      <td>NaN</td>\n",
       "      <td>0</td>\n",
       "      <td>25.0</td>\n",
       "      <td>496</td>\n",
       "    </tr>\n",
       "  </tbody>\n",
       "</table>\n",
       "<p>5 rows × 31 columns</p>\n",
       "</div>"
      ],
      "text/plain": [
       "    x005  x276  x056  x193  x171   x075    x275  x281  x236  x057  ...  x059  \\\n",
       "0    8.0     0     0     0     0      0     NaN     0     0   NaN  ...     0   \n",
       "1    4.0     0     0     0     0  22375     NaN  5206     0   NaN  ...     8   \n",
       "2   96.0     0     2     0     0   3287  0.4814     0     0   NaN  ...     3   \n",
       "3  258.0     1     2     8     0    684  1.1153     0  -156  1.52  ...     5   \n",
       "4   34.0     1     0     1     1   2810  0.1430     0   710  0.62  ...     7   \n",
       "\n",
       "   x055  x076  x274  x239  x245  x287  x014  x003    y  \n",
       "0     0     0     0   NaN     1   NaN     0   NaN  706  \n",
       "1     0     0     0   NaN     0   1.0     0   3.0  558  \n",
       "2     0     1  1613   NaN     1   NaN     0   NaN  577  \n",
       "3     0     1  4796  14.0     1   2.0     1  14.0  526  \n",
       "4     0     0   186  29.5     1   NaN     0  25.0  496  \n",
       "\n",
       "[5 rows x 31 columns]"
      ]
     },
     "execution_count": 2,
     "metadata": {},
     "output_type": "execute_result"
    }
   ],
   "source": [
    "df.head()"
   ]
  },
  {
   "cell_type": "code",
   "execution_count": 3,
   "metadata": {},
   "outputs": [],
   "source": [
    "features = df[df.columns.difference(['y'])]\n",
    "target = df.y"
   ]
  },
  {
   "cell_type": "markdown",
   "metadata": {},
   "source": [
    "# Train test split"
   ]
  },
  {
   "cell_type": "code",
   "execution_count": 4,
   "metadata": {},
   "outputs": [],
   "source": [
    "from sklearn.model_selection import train_test_split\n",
    "\n",
    "X_train, X_test, y_train, y_test = train_test_split(features, target, test_size=0.3, random_state=12345)"
   ]
  },
  {
   "cell_type": "code",
   "execution_count": 5,
   "metadata": {},
   "outputs": [],
   "source": [
    "y_train = pd.Series(np.array(y_train), index=X_train.index)\n",
    "y_test = pd.Series(np.array(y_test), index=X_test.index)"
   ]
  },
  {
   "cell_type": "markdown",
   "metadata": {},
   "source": [
    "# Median imputation"
   ]
  },
  {
   "cell_type": "code",
   "execution_count": 6,
   "metadata": {},
   "outputs": [],
   "source": [
    "median_values = X_train.median()"
   ]
  },
  {
   "cell_type": "code",
   "execution_count": 7,
   "metadata": {},
   "outputs": [],
   "source": [
    "imputed_X_train = X_train.fillna(median_values)\n",
    "imputed_X_test = X_test.fillna(median_values)"
   ]
  },
  {
   "cell_type": "markdown",
   "metadata": {},
   "source": [
    "# Min Max scaler"
   ]
  },
  {
   "cell_type": "code",
   "execution_count": 8,
   "metadata": {},
   "outputs": [],
   "source": [
    "from sklearn.preprocessing import MinMaxScaler\n",
    "\n",
    "scaler = MinMaxScaler()\n",
    "scaler.fit(imputed_X_train)\n",
    "X_train = pd.DataFrame(scaler.transform(imputed_X_train), columns=imputed_X_train.columns)\n",
    "X_test = pd.DataFrame(scaler.transform(imputed_X_test), columns=imputed_X_test.columns)"
   ]
  },
  {
   "cell_type": "markdown",
   "metadata": {},
   "source": [
    "# PCA based variable reduction"
   ]
  },
  {
   "cell_type": "code",
   "execution_count": 9,
   "metadata": {},
   "outputs": [
    {
     "data": {
      "text/plain": [
       "PCA(copy=True, iterated_power='auto', n_components=0.99, random_state=None,\n",
       "    svd_solver='auto', tol=0.0, whiten=False)"
      ]
     },
     "execution_count": 9,
     "metadata": {},
     "output_type": "execute_result"
    }
   ],
   "source": [
    "from sklearn.decomposition import PCA\n",
    "\n",
    "pca = PCA(.99)\n",
    "pca.fit(X_train)"
   ]
  },
  {
   "cell_type": "code",
   "execution_count": 10,
   "metadata": {},
   "outputs": [
    {
     "data": {
      "text/plain": [
       "0.9907960222977913"
      ]
     },
     "execution_count": 10,
     "metadata": {},
     "output_type": "execute_result"
    }
   ],
   "source": [
    "sum(pca.explained_variance_ratio_)"
   ]
  },
  {
   "cell_type": "code",
   "execution_count": 11,
   "metadata": {},
   "outputs": [
    {
     "data": {
      "text/plain": [
       "(14, 30)"
      ]
     },
     "execution_count": 11,
     "metadata": {},
     "output_type": "execute_result"
    }
   ],
   "source": [
    "pca.components_.shape"
   ]
  },
  {
   "cell_type": "code",
   "execution_count": 12,
   "metadata": {},
   "outputs": [],
   "source": [
    "transformed_X_train = pca.transform(X_train)\n",
    "transformed_X_test = pca.transform(X_test)"
   ]
  },
  {
   "cell_type": "markdown",
   "metadata": {},
   "source": [
    "# Autoencoder based variable reduction"
   ]
  },
  {
   "cell_type": "code",
   "execution_count": 13,
   "metadata": {},
   "outputs": [],
   "source": [
    "from tensorflow.keras.layers import Dense, Input, BatchNormalization, Dropout, Lambda\n",
    "from tensorflow.keras.models import Model\n",
    "from tensorflow.keras.callbacks import EarlyStopping\n",
    "from tensorflow.keras.backend import clear_session\n",
    "from keras import backend as K\n",
    "from keras.losses import mse, mean_squared_error, binary_crossentropy\n",
    "\n",
    "class DeepVAE(object):\n",
    "    \n",
    "    def __init__(self, inout_dim, encoded_dims, activation_functions, optimizer, \n",
    "                 batch_size, latent_dim=2, beta = -0.5):  \n",
    "\n",
    "        \n",
    "        assert len(encoded_dims) == len(activation_functions), \"number of activation functions and encodeing layers are different\"\n",
    "        \n",
    "        self.batch_size = batch_size\n",
    "        self.latent_dim = latent_dim\n",
    "                \n",
    "        # Input placeholder\n",
    "        inputs = Input(shape=(inout_dim,), name='features')        \n",
    "                \n",
    "        ## encoding in latent space and sampling\n",
    "        for k in range(len(encoded_dims)):\n",
    "            if k == 0:\n",
    "                x = Dense(encoded_dims[k], \n",
    "                                activation=activation_functions[k], \n",
    "                                name='x'+str(k+1))(inputs)\n",
    "            else:\n",
    "                x = Dense(encoded_dims[k], \n",
    "                                activation=activation_functions[k], \n",
    "                                name='x'+str(k+1))(x)\n",
    "                \n",
    "        z_mean = Dense(latent_dim, name='z_mean')(x)\n",
    "        z_log_var = Dense(latent_dim, name='z_log_var')(x)\n",
    "                \n",
    "        # use reparameterization trick to push the sampling out as input\n",
    "        # note that \"output_shape\" isn't necessary with the TensorFlow backend\n",
    "        z = Lambda(self.sampling, output_shape=(latent_dim,), name='z')([z_mean, z_log_var])\n",
    "            \n",
    "        # instantiate encoder model\n",
    "        self._encoder_model = Model(inputs, [z_mean, z_log_var, z], name='Encoder')\n",
    "        #print(self._encoder_model.summary())\n",
    "\n",
    "        ## build decoder model\n",
    "        latent_inputs = Input(shape=(latent_dim,), name='z_sampling') # latent dims of deepest layer\n",
    "        kk = 0\n",
    "        for k in reversed(range(len(encoded_dims))):\n",
    "            if kk == 0:\n",
    "                x = Dense(encoded_dims[k], \n",
    "                          activation=activation_functions[k],\n",
    "                          name='x'+str(kk+1))(latent_inputs)\n",
    "            else:    \n",
    "                x = Dense(encoded_dims[k],\n",
    "                          activation=activation_functions[k],\n",
    "                          name='x'+str(kk+1))(x)\n",
    "            kk += 1\n",
    "        \n",
    "        outputs = None\n",
    "        if kk > 0:\n",
    "            outputs = Dense(inout_dim, activation='linear', name='decoded_features')(x)\n",
    "        else:\n",
    "            outputs = Dense(inout_dim, activation='linear', name='decoded_features')(latent_inputs)\n",
    "        \n",
    "        # instantiate decoder model\n",
    "        self._decoder_model = Model(latent_inputs, outputs, name='decoder')\n",
    "        #print(self._decoder_model.summary())\n",
    "\n",
    "        # instantiate VAE model\n",
    "        outputs = self._decoder_model(self._encoder_model(inputs)[2])\n",
    "        self._vae_model = Model(inputs, outputs, name='vae_mlp')\n",
    "        \n",
    "        # if croos_entropy loss, add kl loss to vae loss\n",
    "        reconstruction_loss = mse(inputs, outputs)        \n",
    "        reconstruction_loss *= inout_dim\n",
    "        kl_loss = 1 + z_log_var - K.square(z_mean) - K.exp(z_log_var)\n",
    "        kl_loss = K.sum(kl_loss, axis=-1)\n",
    "        kl_loss *= beta\n",
    "        vae_loss = K.mean(reconstruction_loss + kl_loss)\n",
    "        self._vae_model.add_loss(vae_loss)\n",
    "        self._vae_model.compile(optimizer=optimizer)\n",
    "        #print(self._vae_model.summary())\n",
    "        \n",
    "    # reparameterization trick\n",
    "    # instead of sampling from Q(z|X), sample epsilon = N(0,I)\n",
    "    # z = z_mean + sqrt(var) * epsilon\n",
    "    def sampling(self, args):\n",
    "        \"\"\"Reparameterization trick by sampling from an isotropic unit Gaussian.\n",
    "        # Arguments\n",
    "            args (tensor): mean and log of variance of Q(z|X)\n",
    "        # Returns\n",
    "            z (tensor): sampled latent vector\n",
    "        \"\"\"\n",
    "\n",
    "        z_mean, z_log_var = args\n",
    "        batch = K.shape(z_mean)[0]\n",
    "        dim = K.int_shape(z_mean)[1]\n",
    "        # by default, random_normal has mean = 0 and std = 1.0\n",
    "        epsilon = K.random_normal(shape=(batch, dim))\n",
    "        return z_mean + K.exp(0.5 * z_log_var) * epsilon\n",
    "\n",
    "\n",
    "    def train(self, input_train, input_test, epochs, verbose=0):    \n",
    "        \n",
    "        es = EarlyStopping(monitor='val_loss', mode='min', verbose=0, patience=10)\n",
    "        \n",
    "        history = self._vae_model.fit(input_train, epochs = epochs,\n",
    "                                    batch_size=self.batch_size,\n",
    "                                    shuffle=True, verbose=verbose, \n",
    "                                    validation_data=(input_test, None), \n",
    "                                    callbacks=[es])\n",
    "        return history\n",
    "    \n",
    "    \n",
    "    def getEncodedData(self, data):\n",
    "        encoded_image = self._encoder_model.predict(data)\n",
    "        return encoded_image\n",
    "    \n",
    "    def getDecodedData(self, encoded_data):\n",
    "        decoded_data = self._decoder_model.predict(encoded_data)\n",
    "        return decoded_data"
   ]
  },
  {
   "cell_type": "code",
   "execution_count": 14,
   "metadata": {},
   "outputs": [
    {
     "name": "stdout",
     "output_type": "stream",
     "text": [
      "Model: \"Encoder\"\n",
      "__________________________________________________________________________________________________\n",
      "Layer (type)                    Output Shape         Param #     Connected to                     \n",
      "==================================================================================================\n",
      "features (InputLayer)           [(None, 30)]         0                                            \n",
      "__________________________________________________________________________________________________\n",
      "x1 (Dense)                      (None, 10)           310         features[0][0]                   \n",
      "__________________________________________________________________________________________________\n",
      "z_mean (Dense)                  (None, 2)            22          x1[0][0]                         \n",
      "__________________________________________________________________________________________________\n",
      "z_log_var (Dense)               (None, 2)            22          x1[0][0]                         \n",
      "__________________________________________________________________________________________________\n",
      "z (Lambda)                      (None, 2)            0           z_mean[0][0]                     \n",
      "                                                                 z_log_var[0][0]                  \n",
      "==================================================================================================\n",
      "Total params: 354\n",
      "Trainable params: 354\n",
      "Non-trainable params: 0\n",
      "__________________________________________________________________________________________________\n",
      "None\n",
      "Model: \"decoder\"\n",
      "_________________________________________________________________\n",
      "Layer (type)                 Output Shape              Param #   \n",
      "=================================================================\n",
      "z_sampling (InputLayer)      [(None, 2)]               0         \n",
      "_________________________________________________________________\n",
      "x1 (Dense)                   (None, 10)                30        \n",
      "_________________________________________________________________\n",
      "decoded_features (Dense)     (None, 30)                330       \n",
      "=================================================================\n",
      "Total params: 360\n",
      "Trainable params: 360\n",
      "Non-trainable params: 0\n",
      "_________________________________________________________________\n",
      "None\n",
      "Epoch 1/10\n",
      "2334/2334 [==============================] - 4s 2ms/step - loss: 0.2772 - val_loss: 0.1046\n",
      "Epoch 2/10\n",
      "2334/2334 [==============================] - 4s 2ms/step - loss: 0.0970 - val_loss: 0.0916\n",
      "Epoch 3/10\n",
      "2334/2334 [==============================] - 4s 2ms/step - loss: 0.0839 - val_loss: 0.0809\n",
      "Epoch 4/10\n",
      "2334/2334 [==============================] - 4s 2ms/step - loss: 0.0768 - val_loss: 0.0759\n",
      "Epoch 5/10\n",
      "2334/2334 [==============================] - 4s 2ms/step - loss: 0.0722 - val_loss: 0.0713\n",
      "Epoch 6/10\n",
      "2334/2334 [==============================] - 4s 2ms/step - loss: 0.0684 - val_loss: 0.0689\n",
      "Epoch 7/10\n",
      "2334/2334 [==============================] - 4s 2ms/step - loss: 0.0662 - val_loss: 0.0674\n",
      "Epoch 8/10\n",
      "2334/2334 [==============================] - 4s 2ms/step - loss: 0.0650 - val_loss: 0.0663\n",
      "Epoch 9/10\n",
      "2334/2334 [==============================] - 3s 1ms/step - loss: 0.0642 - val_loss: 0.0663\n",
      "Epoch 10/10\n",
      "2334/2334 [==============================] - 4s 2ms/step - loss: 0.0635 - val_loss: 0.0654\n"
     ]
    }
   ],
   "source": [
    "clear_session()\n",
    "\n",
    "# Tensorflow implementation\n",
    "autoencodertf = DeepVAE(inout_dim=X_train.shape[1], \n",
    "                            encoded_dims=[10], \n",
    "                            activation_functions=['relu']*1,\n",
    "                            optimizer='rmsprop',\n",
    "                            batch_size=30, \n",
    "                            latent_dim=2, beta = -0.0005\n",
    "                           )\n",
    "#print(autoencodertf._vae_model.summary())\n",
    "print(autoencodertf._encoder_model.summary())\n",
    "print(autoencodertf._decoder_model.summary())\n",
    "history = autoencodertf.train(input_train=X_train, input_test=X_test, epochs=10, verbose=1)"
   ]
  },
  {
   "cell_type": "code",
   "execution_count": 15,
   "metadata": {},
   "outputs": [
    {
     "data": {
      "image/png": "[encoded data removed]",
      "text/plain": [
       "<Figure size 432x288 with 1 Axes>"
      ]
     },
     "metadata": {
      "needs_background": "light"
     },
     "output_type": "display_data"
    }
   ],
   "source": [
    "import matplotlib.pyplot as plt\n",
    "\n",
    "# Plot training & validation accuracy values\n",
    "plt.plot(history.history['loss'])\n",
    "plt.plot(history.history['val_loss'])\n",
    "plt.title('Model accuracy')\n",
    "plt.ylabel('Loss')\n",
    "plt.xlabel('Epoch')\n",
    "plt.legend(['Train', 'Validation'], loc='upper right')\n",
    "plt.show()"
   ]
  },
  {
   "cell_type": "code",
   "execution_count": 16,
   "metadata": {},
   "outputs": [],
   "source": [
    "def r2(reco_data, act_data, size=1000):\n",
    "   \n",
    "    r_squared = 0\n",
    "    k = 0\n",
    "    for i in np.random.randint(0, reco_data.shape[0], size):  \n",
    "        # for constant rows, stdev is 0 and so corrcoef is NaN\n",
    "        if np.std(reco_data[i,:])==0 or np.std(act_data[i,:])==0:\n",
    "            continue\n",
    "        correlation_matrix = np.corrcoef(reco_data[i,:], act_data[i,:])\n",
    "        correlation_xy = correlation_matrix[0,1]\n",
    "        r_squared += correlation_xy**2\n",
    "        #print(i, correlation_xy**2, np.std(reco_data[i,:]), np.std(act_data[i,:]))\n",
    "        k += 1\n",
    "   \n",
    "    r_squared /= k\n",
    "   \n",
    "    return r_squared  "
   ]
  },
  {
   "cell_type": "code",
   "execution_count": 17,
   "metadata": {},
   "outputs": [
    {
     "name": "stdout",
     "output_type": "stream",
     "text": [
      "0.00186699080224419\n",
      "0.9363372044145444\n"
     ]
    }
   ],
   "source": [
    "import numpy as np\n",
    "encoded_data = autoencodertf.getEncodedData(X_train)\n",
    "decoded_data = autoencodertf.getDecodedData(encoded_data)\n",
    "\n",
    "print(np.mean(np.mean((decoded_data - X_train)**2, axis=1)))\n",
    "print(r2(np.array(decoded_data), np.array(X_train)))"
   ]
  },
  {
   "cell_type": "code",
   "execution_count": 18,
   "metadata": {},
   "outputs": [
    {
     "name": "stdout",
     "output_type": "stream",
     "text": [
      "0.0019167756484509007\n",
      "0.9375053102406719\n"
     ]
    }
   ],
   "source": [
    "encoded_data = autoencodertf.getEncodedData(X_test)\n",
    "decoded_data = autoencodertf.getDecodedData(encoded_data)\n",
    "\n",
    "print(np.mean(np.mean((decoded_data - X_test)**2, axis=1)))\n",
    "print(r2(np.array(decoded_data), np.array(X_test)))"
   ]
  },
  {
   "cell_type": "markdown",
   "metadata": {},
   "source": [
    "I wanted to showcase the VAE technique. I will continue using PCA output for further exploration."
   ]
  },
  {
   "cell_type": "markdown",
   "metadata": {},
   "source": [
    "# Model Evaluation metrics helper functions"
   ]
  },
  {
   "cell_type": "code",
   "execution_count": 19,
   "metadata": {},
   "outputs": [],
   "source": [
    "from sklearn.metrics import mean_squared_error, r2_score\n",
    "from math import sqrt \n",
    "\n",
    "# define model evaluation rmse function\n",
    "def rmse(y, pred):\n",
    "    rmse = sqrt(mean_squared_error(y, pred))\n",
    "    return rmse\n",
    "\n",
    "# define accuracy evaluation function\n",
    "def accuracy(y, pred):\n",
    "    accuracy = (np.abs(y - pred) <= 3.0).astype(int)\n",
    "    return np.sum(accuracy)/len(accuracy)\n",
    "\n",
    "# define model fit function\n",
    "def model_fit(reg, X_train, X_test, y_train, y_test):\n",
    "    \n",
    "    reg.fit(X_train, y_train.ravel())\n",
    "\n",
    "    #prediction results\n",
    "    pred_train = reg.predict(X_train)\n",
    "    pred_test = reg.predict(X_test)    \n",
    "    pred_train = pred_train.ravel()\n",
    "    pred_test = pred_test.ravel()\n",
    "    pred_train[pred_train > 850] = 850\n",
    "    pred_test[pred_test > 850] = 850\n",
    "    pred_train[pred_train < 300] = 300\n",
    "    pred_test[pred_test < 300] = 300\n",
    "        \n",
    "    temp_y_train = y_train.ravel()\n",
    "    temp_y_test = y_test.ravel()\n",
    "    \n",
    "    rmse_train = rmse(temp_y_train, pred_train)\n",
    "    rmse_test = rmse(temp_y_test, pred_test)\n",
    "    acc_train = accuracy(temp_y_train, pred_train)\n",
    "    acc_test = accuracy(temp_y_test, pred_test)\n",
    "    r2_train = r2_score(temp_y_train, pred_train)\n",
    "    r2_test = r2_score(temp_y_test, pred_test)\n",
    "    \n",
    "    print(\"\\n\")\n",
    "    print(\"Train RMSE - \", rmse_train)\n",
    "    print(\"Test RMSE - \", rmse_test)\n",
    "    print(\"\\n\")\n",
    "    print(\"Train Accuracy - \", acc_train)\n",
    "    print(\"Test Accuracy - \", acc_test)\n",
    "    print(\"\\n\")\n",
    "    print(\"Train R squared - \", r2_train)\n",
    "    print(\"Test R squared - \", r2_test)\n",
    "\n",
    "    return rmse_train, rmse_test, acc_train, acc_test, r2_train, r2_test"
   ]
  },
  {
   "cell_type": "code",
   "execution_count": 26,
   "metadata": {},
   "outputs": [],
   "source": [
    "import seaborn as sns\n",
    "\n",
    "def make_confusion_matrix_chart(cf_matrix_train, cf_matrix_test):\n",
    "    \n",
    "    list_values = ['550 & Below', '550 - 649', '650-699', '700-749', '750 & Above']\n",
    "    plt.figure(1, figsize=(10,5))\n",
    "\n",
    "    plt.subplot(121)\n",
    "    sns.heatmap(cf_matrix_train, annot=True, yticklabels=list_values, \n",
    "                                xticklabels=list_values, fmt='g')\n",
    "    plt.ylabel(\"Actual\")\n",
    "    plt.xlabel(\"Pred\")\n",
    "    plt.ylim([0,len(list_values)])\n",
    "    plt.title('Train data')\n",
    "\n",
    "    plt.subplot(122)\n",
    "    sns.heatmap(cf_matrix_test, annot=True, yticklabels=list_values, \n",
    "                                xticklabels=list_values, fmt='g')\n",
    "    plt.ylabel(\"Actual\")\n",
    "    plt.xlabel(\"Pred\")\n",
    "    plt.ylim([0,len(list_values)])\n",
    "    plt.tight_layout()\n",
    "    plt.title('Test data')\n",
    "\n",
    "    plt.tight_layout()\n",
    "    return None"
   ]
  },
  {
   "cell_type": "code",
   "execution_count": 21,
   "metadata": {},
   "outputs": [],
   "source": [
    "class_y_train = pd.DataFrame(y_train)[0].apply(lambda x: 0 if x <= 550 \n",
    "                                            else 1 if x <=649 \n",
    "                                            else 2 if x <=699\n",
    "                                            else 3 if x <=749\n",
    "                                           else 4)\n",
    "\n",
    "class_y_test = pd.DataFrame(y_test)[0].apply(lambda x: 0 if x <= 550 \n",
    "                                            else 1 if x <=649 \n",
    "                                            else 2 if x <=699\n",
    "                                            else 3 if x <=749\n",
    "                                           else 4)"
   ]
  },
  {
   "cell_type": "code",
   "execution_count": 22,
   "metadata": {},
   "outputs": [],
   "source": [
    "sample_X = X_train.sample(frac=0.15, random_state=123)\n",
    "sample_y = class_y_train[class_y_train.index[sample_X.index]]"
   ]
  },
  {
   "cell_type": "code",
   "execution_count": 23,
   "metadata": {},
   "outputs": [
    {
     "data": {
      "text/plain": [
       "RandomForestClassifier(bootstrap=True, ccp_alpha=0.0, class_weight=None,\n",
       "                       criterion='gini', max_depth=None, max_features='auto',\n",
       "                       max_leaf_nodes=None, max_samples=None,\n",
       "                       min_impurity_decrease=0.0, min_impurity_split=None,\n",
       "                       min_samples_leaf=1, min_samples_split=2,\n",
       "                       min_weight_fraction_leaf=0.0, n_estimators=100,\n",
       "                       n_jobs=None, oob_score=False, random_state=None,\n",
       "                       verbose=0, warm_start=False)"
      ]
     },
     "execution_count": 23,
     "metadata": {},
     "output_type": "execute_result"
    }
   ],
   "source": [
    "from sklearn.ensemble import RandomForestClassifier\n",
    "\n",
    "clf = RandomForestClassifier()\n",
    "clf.fit(X_train, class_y_train)"
   ]
  },
  {
   "cell_type": "code",
   "execution_count": 24,
   "metadata": {},
   "outputs": [],
   "source": [
    "from sklearn.metrics import accuracy_score, roc_curve, auc, classification_report, confusion_matrix\n",
    "\n",
    "cf_matrix_train = confusion_matrix(class_y_train, clf.predict(X_train))\n",
    "cf_matrix_test = confusion_matrix(class_y_test, clf.predict(X_test))"
   ]
  },
  {
   "cell_type": "code",
   "execution_count": 27,
   "metadata": {},
   "outputs": [
    {
     "name": "stdout",
     "output_type": "stream",
     "text": [
      "0.9999285714285714 0.7950666666666667\n"
     ]
    },
    {
     "data": {
      "image/png": "[encoded data removed]",
      "text/plain": [
       "<Figure size 720x360 with 4 Axes>"
      ]
     },
     "metadata": {
      "needs_background": "light"
     },
     "output_type": "display_data"
    }
   ],
   "source": [
    "print(accuracy_score(class_y_train, clf.predict(X_train)), accuracy_score(class_y_test, clf.predict(X_test)))\n",
    "make_confusion_matrix_chart(cf_matrix_train, cf_matrix_test)"
   ]
  },
  {
   "cell_type": "code",
   "execution_count": null,
   "metadata": {},
   "outputs": [],
   "source": [
    "from hyperopt import STATUS_OK, Trials, fmin, hp, tpe\n",
    "from sklearn.ensemble import RandomForestClassifier\n",
    "from sklearn.model_selection import cross_val_score\n",
    "\n",
    "def hyperopt_train_test(params):\n",
    "    clf = RandomForestClassifier(**params)\n",
    "    return cross_val_score(clf, sample_X, sample_y).mean()\n",
    "\n",
    "space4rf = {\n",
    "    'max_depth': hp.choice('max_depth', range(1,20)),\n",
    "    'max_features': hp.choice('max_features', range(1,5)),\n",
    "    'n_estimators': hp.choice('n_estimators', range(1,200)),\n",
    "    'criterion': hp.choice('criterion', [\"gini\", \"entropy\"])\n",
    "}\n",
    "best = 0\n",
    "def f(params):\n",
    "    global best\n",
    "    acc = hyperopt_train_test(params)\n",
    "    if acc > best:\n",
    "        best = acc\n",
    "    print('new best:', best, params)\n",
    "    return {'loss': -acc, 'status': STATUS_OK}\n",
    "trials = Trials()\n",
    "best = fmin(f, space4rf, algo=tpe.suggest, max_evals=300, trials=trials)\n",
    "print ('best:', best)"
   ]
  },
  {
   "cell_type": "code",
   "execution_count": null,
   "metadata": {},
   "outputs": [],
   "source": []
  },
  {
   "cell_type": "code",
   "execution_count": null,
   "metadata": {},
   "outputs": [],
   "source": []
  },
  {
   "cell_type": "code",
   "execution_count": null,
   "metadata": {},
   "outputs": [],
   "source": []
  },
  {
   "cell_type": "code",
   "execution_count": null,
   "metadata": {},
   "outputs": [],
   "source": [
    "from sklearn.ensemble import RandomForestRegressor\n",
    "\n",
    "reg_randomforest = RandomForestRegressor()"
   ]
  },
  {
   "cell_type": "code",
   "execution_count": null,
   "metadata": {},
   "outputs": [],
   "source": [
    "rmse_train, rmse_test, acc_train, acc_test, r2_train, r2_test = model_fit(reg_randomforest, \n",
    "                                                                          X_train, \n",
    "                                                                          X_test,\n",
    "                                                                          y_train,\n",
    "                                                                          y_test)"
   ]
  },
  {
   "cell_type": "code",
   "execution_count": null,
   "metadata": {},
   "outputs": [],
   "source": [
    "import keras.backend as K\n",
    "import tensorflow as tf\n",
    "\n",
    "def root_mean_squared_error(y_true, y_pred):\n",
    "    y_true = tf.cast(y_true, tf.float32)\n",
    "    y_pred = tf.cast(y_pred, tf.float32)\n",
    "    return K.sqrt(K.mean(K.square(y_pred - y_true))) "
   ]
  },
  {
   "cell_type": "code",
   "execution_count": null,
   "metadata": {
    "scrolled": true
   },
   "outputs": [],
   "source": [
    "from keras.models import Sequential\n",
    "from keras.layers import Dense\n",
    "from sklearn.preprocessing import StandardScaler\n",
    "from keras.wrappers.scikit_learn import KerasRegressor\n",
    "from sklearn.model_selection import cross_val_score\n",
    "from sklearn.model_selection import KFold\n",
    "from sklearn.pipeline import Pipeline\n",
    "\n",
    "# define the model\n",
    "def larger_model():\n",
    "    # create model\n",
    "    model = Sequential()\n",
    "    model.add(Dense(30, input_dim=30, kernel_initializer='normal', activation='relu'))\n",
    "    model.add(Dropout(rate = 0.3))\n",
    "    model.add(Dense(20, kernel_initializer='normal', activation='relu'))\n",
    "    model.add(Dropout(rate = 0.3))\n",
    "    model.add(Dense(10, kernel_initializer='normal', activation='relu'))\n",
    "    model.add(Dropout(rate = 0.3))\n",
    "    model.add(Dense(1, kernel_initializer='normal'))\n",
    "    # Compile model\n",
    "    model.compile(loss=root_mean_squared_error, optimizer='rmsprop')\n",
    "    return model\n",
    "\n",
    "# evaluate model with standardized dataset\n",
    "estimators = []\n",
    "#estimators.append(('standardize', StandardScaler()))\n",
    "estimators.append(('mlp', KerasRegressor(build_fn=larger_model, epochs=30, batch_size=16, verbose=1)))\n",
    "pipeline = Pipeline(estimators)\n",
    "kfold = KFold(n_splits=5)\n",
    "results = cross_val_score(pipeline, X_train, y_train, cv=kfold)\n",
    "print(\"Larger: %.2f (%.2f) MSE\" % (results.mean(), results.std()))"
   ]
  },
  {
   "cell_type": "code",
   "execution_count": null,
   "metadata": {},
   "outputs": [],
   "source": []
  },
  {
   "cell_type": "code",
   "execution_count": null,
   "metadata": {},
   "outputs": [],
   "source": []
  },
  {
   "cell_type": "code",
   "execution_count": null,
   "metadata": {},
   "outputs": [],
   "source": []
  },
  {
   "cell_type": "code",
   "execution_count": null,
   "metadata": {},
   "outputs": [],
   "source": []
  }
 ],
 "metadata": {
  "kernelspec": {
   "display_name": "Python 3",
   "language": "python",
   "name": "python3"
  },
  "language_info": {
   "codemirror_mode": {
    "name": "ipython",
    "version": 3
   },
   "file_extension": ".py",
   "mimetype": "text/x-python",
   "name": "python",
   "nbconvert_exporter": "python",
   "pygments_lexer": "ipython3",
   "version": "3.7.6"
  }
 },
 "nbformat": 4,
 "nbformat_minor": 4
}
