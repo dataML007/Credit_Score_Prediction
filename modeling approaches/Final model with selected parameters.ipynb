{
 "cells": [
  {
   "cell_type": "markdown",
   "metadata": {},
   "source": [
    "# Final model with just the selected parameters"
   ]
  },
  {
   "cell_type": "code",
   "execution_count": 2,
   "metadata": {},
   "outputs": [],
   "source": [
    "import pandas as pd\n",
    "import numpy as np\n",
    "import matplotlib.pyplot as plt\n",
    "\n",
    "df = pd.read_csv('subset_data.csv/part-00000-03fb537b-9382-4a5b-bac8-26d245ab88ab-c000.csv')"
   ]
  },
  {
   "cell_type": "code",
   "execution_count": 3,
   "metadata": {},
   "outputs": [
    {
     "data": {
      "text/html": [
       "<div>\n",
       "<style scoped>\n",
       "    .dataframe tbody tr th:only-of-type {\n",
       "        vertical-align: middle;\n",
       "    }\n",
       "\n",
       "    .dataframe tbody tr th {\n",
       "        vertical-align: top;\n",
       "    }\n",
       "\n",
       "    .dataframe thead th {\n",
       "        text-align: right;\n",
       "    }\n",
       "</style>\n",
       "<table border=\"1\" class=\"dataframe\">\n",
       "  <thead>\n",
       "    <tr style=\"text-align: right;\">\n",
       "      <th></th>\n",
       "      <th>x005</th>\n",
       "      <th>x276</th>\n",
       "      <th>x056</th>\n",
       "      <th>x193</th>\n",
       "      <th>x171</th>\n",
       "      <th>x075</th>\n",
       "      <th>x275</th>\n",
       "      <th>x281</th>\n",
       "      <th>x236</th>\n",
       "      <th>x057</th>\n",
       "      <th>...</th>\n",
       "      <th>x059</th>\n",
       "      <th>x055</th>\n",
       "      <th>x076</th>\n",
       "      <th>x274</th>\n",
       "      <th>x239</th>\n",
       "      <th>x245</th>\n",
       "      <th>x287</th>\n",
       "      <th>x014</th>\n",
       "      <th>x003</th>\n",
       "      <th>y</th>\n",
       "    </tr>\n",
       "  </thead>\n",
       "  <tbody>\n",
       "    <tr>\n",
       "      <th>0</th>\n",
       "      <td>8.0</td>\n",
       "      <td>0</td>\n",
       "      <td>0</td>\n",
       "      <td>0</td>\n",
       "      <td>0</td>\n",
       "      <td>0</td>\n",
       "      <td>NaN</td>\n",
       "      <td>0</td>\n",
       "      <td>0</td>\n",
       "      <td>NaN</td>\n",
       "      <td>...</td>\n",
       "      <td>0</td>\n",
       "      <td>0</td>\n",
       "      <td>0</td>\n",
       "      <td>0</td>\n",
       "      <td>NaN</td>\n",
       "      <td>1</td>\n",
       "      <td>NaN</td>\n",
       "      <td>0</td>\n",
       "      <td>NaN</td>\n",
       "      <td>706</td>\n",
       "    </tr>\n",
       "    <tr>\n",
       "      <th>1</th>\n",
       "      <td>4.0</td>\n",
       "      <td>0</td>\n",
       "      <td>0</td>\n",
       "      <td>0</td>\n",
       "      <td>0</td>\n",
       "      <td>22375</td>\n",
       "      <td>NaN</td>\n",
       "      <td>5206</td>\n",
       "      <td>0</td>\n",
       "      <td>NaN</td>\n",
       "      <td>...</td>\n",
       "      <td>8</td>\n",
       "      <td>0</td>\n",
       "      <td>0</td>\n",
       "      <td>0</td>\n",
       "      <td>NaN</td>\n",
       "      <td>0</td>\n",
       "      <td>1.0</td>\n",
       "      <td>0</td>\n",
       "      <td>3.0</td>\n",
       "      <td>558</td>\n",
       "    </tr>\n",
       "    <tr>\n",
       "      <th>2</th>\n",
       "      <td>96.0</td>\n",
       "      <td>0</td>\n",
       "      <td>2</td>\n",
       "      <td>0</td>\n",
       "      <td>0</td>\n",
       "      <td>3287</td>\n",
       "      <td>0.4814</td>\n",
       "      <td>0</td>\n",
       "      <td>0</td>\n",
       "      <td>NaN</td>\n",
       "      <td>...</td>\n",
       "      <td>3</td>\n",
       "      <td>0</td>\n",
       "      <td>1</td>\n",
       "      <td>1613</td>\n",
       "      <td>NaN</td>\n",
       "      <td>1</td>\n",
       "      <td>NaN</td>\n",
       "      <td>0</td>\n",
       "      <td>NaN</td>\n",
       "      <td>577</td>\n",
       "    </tr>\n",
       "    <tr>\n",
       "      <th>3</th>\n",
       "      <td>258.0</td>\n",
       "      <td>1</td>\n",
       "      <td>2</td>\n",
       "      <td>8</td>\n",
       "      <td>0</td>\n",
       "      <td>684</td>\n",
       "      <td>1.1153</td>\n",
       "      <td>0</td>\n",
       "      <td>-156</td>\n",
       "      <td>1.52</td>\n",
       "      <td>...</td>\n",
       "      <td>5</td>\n",
       "      <td>0</td>\n",
       "      <td>1</td>\n",
       "      <td>4796</td>\n",
       "      <td>14.0</td>\n",
       "      <td>1</td>\n",
       "      <td>2.0</td>\n",
       "      <td>1</td>\n",
       "      <td>14.0</td>\n",
       "      <td>526</td>\n",
       "    </tr>\n",
       "    <tr>\n",
       "      <th>4</th>\n",
       "      <td>34.0</td>\n",
       "      <td>1</td>\n",
       "      <td>0</td>\n",
       "      <td>1</td>\n",
       "      <td>1</td>\n",
       "      <td>2810</td>\n",
       "      <td>0.1430</td>\n",
       "      <td>0</td>\n",
       "      <td>710</td>\n",
       "      <td>0.62</td>\n",
       "      <td>...</td>\n",
       "      <td>7</td>\n",
       "      <td>0</td>\n",
       "      <td>0</td>\n",
       "      <td>186</td>\n",
       "      <td>29.5</td>\n",
       "      <td>1</td>\n",
       "      <td>NaN</td>\n",
       "      <td>0</td>\n",
       "      <td>25.0</td>\n",
       "      <td>496</td>\n",
       "    </tr>\n",
       "  </tbody>\n",
       "</table>\n",
       "<p>5 rows × 31 columns</p>\n",
       "</div>"
      ],
      "text/plain": [
       "    x005  x276  x056  x193  x171   x075    x275  x281  x236  x057 ...   x059  \\\n",
       "0    8.0     0     0     0     0      0     NaN     0     0   NaN ...      0   \n",
       "1    4.0     0     0     0     0  22375     NaN  5206     0   NaN ...      8   \n",
       "2   96.0     0     2     0     0   3287  0.4814     0     0   NaN ...      3   \n",
       "3  258.0     1     2     8     0    684  1.1153     0  -156  1.52 ...      5   \n",
       "4   34.0     1     0     1     1   2810  0.1430     0   710  0.62 ...      7   \n",
       "\n",
       "   x055  x076  x274  x239  x245  x287  x014  x003    y  \n",
       "0     0     0     0   NaN     1   NaN     0   NaN  706  \n",
       "1     0     0     0   NaN     0   1.0     0   3.0  558  \n",
       "2     0     1  1613   NaN     1   NaN     0   NaN  577  \n",
       "3     0     1  4796  14.0     1   2.0     1  14.0  526  \n",
       "4     0     0   186  29.5     1   NaN     0  25.0  496  \n",
       "\n",
       "[5 rows x 31 columns]"
      ]
     },
     "execution_count": 3,
     "metadata": {},
     "output_type": "execute_result"
    }
   ],
   "source": [
    "df.head()"
   ]
  },
  {
   "cell_type": "code",
   "execution_count": 4,
   "metadata": {},
   "outputs": [],
   "source": [
    "features = df[df.columns.difference(['y'])]\n",
    "target = df.y"
   ]
  },
  {
   "cell_type": "markdown",
   "metadata": {},
   "source": [
    "# Train test split"
   ]
  },
  {
   "cell_type": "code",
   "execution_count": 5,
   "metadata": {},
   "outputs": [],
   "source": [
    "from sklearn.model_selection import train_test_split\n",
    "\n",
    "X_train, X_test, y_train, y_test = train_test_split(features, target, test_size=0.3, random_state=12345)"
   ]
  },
  {
   "cell_type": "code",
   "execution_count": 6,
   "metadata": {},
   "outputs": [],
   "source": [
    "selected_columns = X_train.columns"
   ]
  },
  {
   "cell_type": "code",
   "execution_count": 7,
   "metadata": {},
   "outputs": [],
   "source": [
    "y_train = pd.Series(np.array(y_train), index=X_train.index)\n",
    "y_test = pd.Series(np.array(y_test), index=X_test.index)"
   ]
  },
  {
   "cell_type": "markdown",
   "metadata": {},
   "source": [
    "# Median imputation"
   ]
  },
  {
   "cell_type": "code",
   "execution_count": 8,
   "metadata": {},
   "outputs": [],
   "source": [
    "median_values = X_train.median()"
   ]
  },
  {
   "cell_type": "code",
   "execution_count": 9,
   "metadata": {},
   "outputs": [],
   "source": [
    "imputed_X_train = X_train.fillna(median_values)\n",
    "imputed_X_test = X_test.fillna(median_values)"
   ]
  },
  {
   "cell_type": "markdown",
   "metadata": {},
   "source": [
    "# Min Max scaler"
   ]
  },
  {
   "cell_type": "code",
   "execution_count": 10,
   "metadata": {},
   "outputs": [],
   "source": [
    "from sklearn.preprocessing import MinMaxScaler\n",
    "\n",
    "scaler = MinMaxScaler()\n",
    "scaler.fit(imputed_X_train)\n",
    "X_train = pd.DataFrame(scaler.transform(imputed_X_train), columns=imputed_X_train.columns)\n",
    "X_test = pd.DataFrame(scaler.transform(imputed_X_test), columns=imputed_X_test.columns)"
   ]
  },
  {
   "cell_type": "code",
   "execution_count": 11,
   "metadata": {},
   "outputs": [],
   "source": [
    "range_size = 850 - 300\n",
    "\n",
    "scaled_y_train = y_train.apply(lambda x: (x-300)/range_size)\n",
    "scaled_y_test = y_test.apply(lambda x: (x-300)/range_size)"
   ]
  },
  {
   "cell_type": "code",
   "execution_count": 12,
   "metadata": {},
   "outputs": [
    {
     "data": {
      "text/plain": [
       "0.8781818181818182"
      ]
     },
     "execution_count": 12,
     "metadata": {},
     "output_type": "execute_result"
    }
   ],
   "source": [
    "(783 - 300)/range_size"
   ]
  },
  {
   "cell_type": "code",
   "execution_count": 13,
   "metadata": {},
   "outputs": [
    {
     "data": {
      "text/plain": [
       "0.8727272727272727"
      ]
     },
     "execution_count": 13,
     "metadata": {},
     "output_type": "execute_result"
    }
   ],
   "source": [
    "(780 - 300)/range_size"
   ]
  },
  {
   "cell_type": "code",
   "execution_count": 14,
   "metadata": {},
   "outputs": [
    {
     "data": {
      "text/plain": [
       "0.00545454545454549"
      ]
     },
     "execution_count": 14,
     "metadata": {},
     "output_type": "execute_result"
    }
   ],
   "source": [
    "0.8781818181818182 - 0.8727272727272727"
   ]
  },
  {
   "cell_type": "markdown",
   "metadata": {},
   "source": [
    "So, the 3 difference in scaled version translates to 0.00545"
   ]
  },
  {
   "cell_type": "markdown",
   "metadata": {},
   "source": [
    "# Model Evaluation metrics helper functions"
   ]
  },
  {
   "cell_type": "code",
   "execution_count": 15,
   "metadata": {},
   "outputs": [],
   "source": [
    "from sklearn.metrics import mean_squared_error, r2_score\n",
    "from math import sqrt \n",
    "\n",
    "# define model evaluation rmse function\n",
    "def rmse(y, pred):\n",
    "    rmse = sqrt(mean_squared_error(y, pred))\n",
    "    return rmse\n",
    "\n",
    "# define accuracy evaluation function\n",
    "def accuracy(y, pred, cut_off):\n",
    "    accuracy = (np.abs(y - pred) <= cut_off).astype(int)\n",
    "    return np.sum(accuracy)/len(accuracy)\n",
    "\n",
    "# define model fit function\n",
    "def model_fit(reg, X_train, X_test, y_train, y_test, min_value, max_value):\n",
    "    \n",
    "    reg.fit(X_train, y_train.ravel())\n",
    "\n",
    "    #prediction results\n",
    "    pred_train = reg.predict(X_train)\n",
    "    pred_test = reg.predict(X_test)    \n",
    "    pred_train[pred_train > max_value] = max_value\n",
    "    pred_test[pred_test > max_value] = max_value\n",
    "    pred_train[pred_train < min_value] = min_value\n",
    "    pred_test[pred_test < min_value] = min_value\n",
    "    \n",
    "    if max_value == 1:\n",
    "#         pred_train = pred_train * 550 + 300\n",
    "#         pred_test = pred_test * 550 + 300\n",
    "#         temp_y_train = y_train.ravel() * 550 + 300\n",
    "#         temp_y_test = y_test.ravel() * 550 + 300\n",
    "        cut_off = 0.00545\n",
    "    else:    \n",
    "        cut_off = 3\n",
    "        \n",
    "    temp_y_train = y_train.ravel()\n",
    "    temp_y_test = y_test.ravel()\n",
    "    rmse_train = rmse(temp_y_train, pred_train)\n",
    "    rmse_test = rmse(temp_y_test, pred_test)\n",
    "    acc_train = accuracy(temp_y_train, pred_train, cut_off)\n",
    "    acc_test = accuracy(temp_y_test, pred_test, cut_off)\n",
    "    r2_train = r2_score(temp_y_train, pred_train)\n",
    "    r2_test = r2_score(temp_y_test, pred_test)\n",
    "    \n",
    "    print(\"\\n\")\n",
    "    print(\"Train RMSE - \", rmse_train)\n",
    "    print(\"Test RMSE - \", rmse_test)\n",
    "    print(\"\\n\")\n",
    "    print(\"Train Accuracy - \", acc_train)\n",
    "    print(\"Test Accuracy - \", acc_test)\n",
    "    print(\"\\n\")\n",
    "    print(\"Train R squared - \", r2_train)\n",
    "    print(\"Test R squared - \", r2_test)\n",
    "\n",
    "    return rmse_train, rmse_test, acc_train, acc_test, r2_train, r2_test"
   ]
  },
  {
   "cell_type": "code",
   "execution_count": 16,
   "metadata": {},
   "outputs": [],
   "source": [
    "from sklearn.ensemble import RandomForestRegressor, GradientBoostingRegressor\n",
    "import xgboost as xgb"
   ]
  },
  {
   "cell_type": "code",
   "execution_count": 17,
   "metadata": {},
   "outputs": [],
   "source": [
    "reg = xgb.XGBRegressor()"
   ]
  },
  {
   "cell_type": "code",
   "execution_count": 18,
   "metadata": {},
   "outputs": [
    {
     "name": "stdout",
     "output_type": "stream",
     "text": [
      "\n",
      "\n",
      "Train RMSE -  25.749922203581587\n",
      "Test RMSE -  30.303113948660062\n",
      "\n",
      "\n",
      "Train Accuracy -  0.13428571428571429\n",
      "Test Accuracy -  0.12436666666666667\n",
      "\n",
      "\n",
      "Train R squared -  0.9528531251465733\n",
      "Test R squared -  0.9342287132553931\n"
     ]
    }
   ],
   "source": [
    "r2_test = model_fit(reg, X_train, X_test, y_train, y_test, 300, 850)"
   ]
  },
  {
   "cell_type": "code",
   "execution_count": 19,
   "metadata": {},
   "outputs": [],
   "source": [
    "reg = xgb.XGBRegressor(learning_rate=0.01,\n",
    "                       n_estimators=6000,\n",
    "                       max_depth=4,\n",
    "                       min_child_weight=0,\n",
    "                       gamma=0.6,\n",
    "                       subsample=0.7,\n",
    "                       colsample_bytree=0.7,\n",
    "                       nthread=-1,\n",
    "                       scale_pos_weight=1,\n",
    "                       seed=27,\n",
    "                       reg_alpha=0.00006,\n",
    "                       random_state=42)"
   ]
  },
  {
   "cell_type": "code",
   "execution_count": 20,
   "metadata": {},
   "outputs": [
    {
     "name": "stdout",
     "output_type": "stream",
     "text": [
      "\n",
      "\n",
      "Train RMSE -  26.769303333578453\n",
      "Test RMSE -  28.874080672421766\n",
      "\n",
      "\n",
      "Train Accuracy -  0.128\n",
      "Test Accuracy -  0.1205\n",
      "\n",
      "\n",
      "Train R squared -  0.9490463609909204\n",
      "Test R squared -  0.9402857266688193\n"
     ]
    }
   ],
   "source": [
    "r2_test = model_fit(reg, X_train, X_test, y_train, y_test, 300, 850)"
   ]
  },
  {
   "cell_type": "markdown",
   "metadata": {},
   "source": [
    "# Pickle files"
   ]
  },
  {
   "cell_type": "code",
   "execution_count": 21,
   "metadata": {},
   "outputs": [],
   "source": [
    "import pickle"
   ]
  },
  {
   "cell_type": "code",
   "execution_count": 22,
   "metadata": {},
   "outputs": [],
   "source": [
    "list_to_dumb = [selected_columns, reg, scaler, median_values]\n",
    "\n",
    "with open('model_objects.pkl', 'wb') as handle:\n",
    "    pickle.dump(list_to_dumb, handle)"
   ]
  },
  {
   "cell_type": "code",
   "execution_count": null,
   "metadata": {},
   "outputs": [],
   "source": []
  },
  {
   "cell_type": "code",
   "execution_count": null,
   "metadata": {},
   "outputs": [],
   "source": []
  },
  {
   "cell_type": "code",
   "execution_count": null,
   "metadata": {},
   "outputs": [],
   "source": []
  },
  {
   "cell_type": "code",
   "execution_count": null,
   "metadata": {},
   "outputs": [],
   "source": []
  },
  {
   "cell_type": "code",
   "execution_count": null,
   "metadata": {},
   "outputs": [],
   "source": []
  },
  {
   "cell_type": "code",
   "execution_count": null,
   "metadata": {},
   "outputs": [],
   "source": []
  }
 ],
 "metadata": {
  "kernelspec": {
   "display_name": "Python 3",
   "language": "python",
   "name": "python3"
  },
  "language_info": {
   "codemirror_mode": {
    "name": "ipython",
    "version": 3
   },
   "file_extension": ".py",
   "mimetype": "text/x-python",
   "name": "python",
   "nbconvert_exporter": "python",
   "pygments_lexer": "ipython3",
   "version": "3.6.8"
  }
 },
 "nbformat": 4,
 "nbformat_minor": 4
}
